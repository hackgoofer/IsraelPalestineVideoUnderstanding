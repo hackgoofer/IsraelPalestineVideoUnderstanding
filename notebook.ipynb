{
  "cells": [
    {
      "attachments": {},
      "cell_type": "markdown",
      "metadata": {
        "id": "8DFZRnmEHWz_"
      },
      "source": [
        "# Create Taylor Swift Embeddings Data\n",
        "\n",
        "Use this colab to analyze trends in Taylor Swift's song lyrics using [Phoenix OSS](https://github.com/Arize-ai/phoenix). Download the Kaggle dataset [here](https://www.kaggle.com/datasets/PromptCloudHQ/taylor-swift-song-lyrics-from-all-the-albums?select=taylor_swift_lyrics.csv)."
      ]
    },
    {
      "cell_type": "code",
      "execution_count": 1,
      "metadata": {},
      "outputs": [
        {
          "name": "stdout",
          "output_type": "stream",
          "text": [
            "Requirement already satisfied: arize-phoenix in /Users/sasha/miniconda3/envs/smol/lib/python3.11/site-packages (0.0.48)\n",
            "Requirement already satisfied: ddsketch in /Users/sasha/miniconda3/envs/smol/lib/python3.11/site-packages (from arize-phoenix) (2.0.4)\n",
            "Requirement already satisfied: hdbscan<1.0.0,>=0.8.33 in /Users/sasha/miniconda3/envs/smol/lib/python3.11/site-packages (from arize-phoenix) (0.8.33)\n",
            "Requirement already satisfied: jinja2 in /Users/sasha/miniconda3/envs/smol/lib/python3.11/site-packages (from arize-phoenix) (3.1.2)\n",
            "Requirement already satisfied: numpy in /Users/sasha/miniconda3/envs/smol/lib/python3.11/site-packages (from arize-phoenix) (1.25.2)\n",
            "Requirement already satisfied: pandas in /Users/sasha/miniconda3/envs/smol/lib/python3.11/site-packages (from arize-phoenix) (2.1.1)\n",
            "Requirement already satisfied: protobuf<5.0,>=3.20 in /Users/sasha/miniconda3/envs/smol/lib/python3.11/site-packages (from arize-phoenix) (4.24.4)\n",
            "Requirement already satisfied: psutil in /Users/sasha/miniconda3/envs/smol/lib/python3.11/site-packages (from arize-phoenix) (5.9.5)\n",
            "Requirement already satisfied: pyarrow in /Users/sasha/miniconda3/envs/smol/lib/python3.11/site-packages (from arize-phoenix) (13.0.0)\n",
            "Requirement already satisfied: scikit-learn<1.3.0 in /Users/sasha/miniconda3/envs/smol/lib/python3.11/site-packages (from arize-phoenix) (1.2.2)\n",
            "Requirement already satisfied: scipy in /Users/sasha/miniconda3/envs/smol/lib/python3.11/site-packages (from arize-phoenix) (1.11.3)\n",
            "Requirement already satisfied: sortedcontainers in /Users/sasha/miniconda3/envs/smol/lib/python3.11/site-packages (from arize-phoenix) (2.4.0)\n",
            "Requirement already satisfied: starlette in /Users/sasha/miniconda3/envs/smol/lib/python3.11/site-packages (from arize-phoenix) (0.27.0)\n",
            "Requirement already satisfied: strawberry-graphql==0.208.2 in /Users/sasha/miniconda3/envs/smol/lib/python3.11/site-packages (from arize-phoenix) (0.208.2)\n",
            "Requirement already satisfied: typing-extensions in /Users/sasha/miniconda3/envs/smol/lib/python3.11/site-packages (from arize-phoenix) (4.7.1)\n",
            "Requirement already satisfied: umap-learn in /Users/sasha/miniconda3/envs/smol/lib/python3.11/site-packages (from arize-phoenix) (0.5.4)\n",
            "Requirement already satisfied: uvicorn in /Users/sasha/miniconda3/envs/smol/lib/python3.11/site-packages (from arize-phoenix) (0.23.2)\n",
            "Requirement already satisfied: wrapt in /Users/sasha/miniconda3/envs/smol/lib/python3.11/site-packages (from arize-phoenix) (1.15.0)\n",
            "Requirement already satisfied: graphql-core<3.3.0,>=3.2.0 in /Users/sasha/miniconda3/envs/smol/lib/python3.11/site-packages (from strawberry-graphql==0.208.2->arize-phoenix) (3.2.3)\n",
            "Requirement already satisfied: python-dateutil<3.0.0,>=2.7.0 in /Users/sasha/miniconda3/envs/smol/lib/python3.11/site-packages (from strawberry-graphql==0.208.2->arize-phoenix) (2.8.2)\n",
            "Requirement already satisfied: cython<3,>=0.27 in /Users/sasha/miniconda3/envs/smol/lib/python3.11/site-packages (from hdbscan<1.0.0,>=0.8.33->arize-phoenix) (0.29.36)\n",
            "Requirement already satisfied: joblib>=1.0 in /Users/sasha/miniconda3/envs/smol/lib/python3.11/site-packages (from hdbscan<1.0.0,>=0.8.33->arize-phoenix) (1.3.2)\n",
            "Requirement already satisfied: threadpoolctl>=2.0.0 in /Users/sasha/miniconda3/envs/smol/lib/python3.11/site-packages (from scikit-learn<1.3.0->arize-phoenix) (3.2.0)\n",
            "Requirement already satisfied: six in /Users/sasha/miniconda3/envs/smol/lib/python3.11/site-packages (from ddsketch->arize-phoenix) (1.16.0)\n",
            "Requirement already satisfied: MarkupSafe>=2.0 in /Users/sasha/miniconda3/envs/smol/lib/python3.11/site-packages (from jinja2->arize-phoenix) (2.1.1)\n",
            "Requirement already satisfied: pytz>=2020.1 in /Users/sasha/miniconda3/envs/smol/lib/python3.11/site-packages (from pandas->arize-phoenix) (2023.3.post1)\n",
            "Requirement already satisfied: tzdata>=2022.1 in /Users/sasha/miniconda3/envs/smol/lib/python3.11/site-packages (from pandas->arize-phoenix) (2023.3)\n",
            "Requirement already satisfied: anyio<5,>=3.4.0 in /Users/sasha/miniconda3/envs/smol/lib/python3.11/site-packages (from starlette->arize-phoenix) (3.7.1)\n",
            "Requirement already satisfied: numba>=0.51.2 in /Users/sasha/miniconda3/envs/smol/lib/python3.11/site-packages (from umap-learn->arize-phoenix) (0.58.0)\n",
            "Requirement already satisfied: pynndescent>=0.5 in /Users/sasha/miniconda3/envs/smol/lib/python3.11/site-packages (from umap-learn->arize-phoenix) (0.5.10)\n",
            "Requirement already satisfied: tqdm in /Users/sasha/miniconda3/envs/smol/lib/python3.11/site-packages (from umap-learn->arize-phoenix) (4.66.1)\n",
            "Requirement already satisfied: tbb>=2019.0 in /Users/sasha/miniconda3/envs/smol/lib/python3.11/site-packages (from umap-learn->arize-phoenix) (2021.10.0)\n",
            "Requirement already satisfied: click>=7.0 in /Users/sasha/miniconda3/envs/smol/lib/python3.11/site-packages (from uvicorn->arize-phoenix) (8.1.6)\n",
            "Requirement already satisfied: h11>=0.8 in /Users/sasha/miniconda3/envs/smol/lib/python3.11/site-packages (from uvicorn->arize-phoenix) (0.14.0)\n",
            "Requirement already satisfied: idna>=2.8 in /Users/sasha/miniconda3/envs/smol/lib/python3.11/site-packages (from anyio<5,>=3.4.0->starlette->arize-phoenix) (3.4)\n",
            "Requirement already satisfied: sniffio>=1.1 in /Users/sasha/miniconda3/envs/smol/lib/python3.11/site-packages (from anyio<5,>=3.4.0->starlette->arize-phoenix) (1.2.0)\n",
            "Requirement already satisfied: llvmlite<0.42,>=0.41.0dev0 in /Users/sasha/miniconda3/envs/smol/lib/python3.11/site-packages (from numba>=0.51.2->umap-learn->arize-phoenix) (0.41.0)\n"
          ]
        }
      ],
      "source": [
        "!pip install arize-phoenix"
      ]
    },
    {
      "cell_type": "code",
      "execution_count": 1,
      "metadata": {},
      "outputs": [],
      "source": [
        "import pandas as pd\n",
        "import phoenix as px"
      ]
    },
    {
      "cell_type": "code",
      "execution_count": 6,
      "metadata": {},
      "outputs": [
        {
          "data": {
            "text/html": [
              "<div>\n",
              "<style scoped>\n",
              "    .dataframe tbody tr th:only-of-type {\n",
              "        vertical-align: middle;\n",
              "    }\n",
              "\n",
              "    .dataframe tbody tr th {\n",
              "        vertical-align: top;\n",
              "    }\n",
              "\n",
              "    .dataframe thead th {\n",
              "        text-align: right;\n",
              "    }\n",
              "</style>\n",
              "<table border=\"1\" class=\"dataframe\">\n",
              "  <thead>\n",
              "    <tr style=\"text-align: right;\">\n",
              "      <th></th>\n",
              "      <th>videoID</th>\n",
              "      <th>title</th>\n",
              "      <th>summary</th>\n",
              "    </tr>\n",
              "  </thead>\n",
              "  <tbody>\n",
              "    <tr>\n",
              "      <th>0</th>\n",
              "      <td>652b44ad43e8c47e4eb48235</td>\n",
              "      <td>Israel-Hamas war: Israeli soldiers gear up to ...</td>\n",
              "      <td>An intense missile conflict unfolds in the ski...</td>\n",
              "    </tr>\n",
              "    <tr>\n",
              "      <th>1</th>\n",
              "      <td>652b444c43e8c47e4eb48231</td>\n",
              "      <td>Israel vs Hamas: Five Videos that Define the W...</td>\n",
              "      <td>In this video, there are five defining moments...</td>\n",
              "    </tr>\n",
              "    <tr>\n",
              "      <th>2</th>\n",
              "      <td>652b444943e8c47e4eb48230</td>\n",
              "      <td>Jewish schools CLOSE over children safety conc...</td>\n",
              "      <td>Some North London Jewish schools have closed d...</td>\n",
              "    </tr>\n",
              "    <tr>\n",
              "      <th>3</th>\n",
              "      <td>652b443543e8c47e4eb4822f</td>\n",
              "      <td>Israel Air Force Rains Fire On Hamas Naval HQ ...</td>\n",
              "      <td>This video shows a city being struck by a disa...</td>\n",
              "    </tr>\n",
              "    <tr>\n",
              "      <th>4</th>\n",
              "      <td>652b442943e8c47e4eb4822e</td>\n",
              "      <td>Fake News Over Israel-Hamas War | Vantage with...</td>\n",
              "      <td>The video explores the prevalence of digital m...</td>\n",
              "    </tr>\n",
              "    <tr>\n",
              "      <th>...</th>\n",
              "      <td>...</td>\n",
              "      <td>...</td>\n",
              "      <td>...</td>\n",
              "    </tr>\n",
              "    <tr>\n",
              "      <th>72</th>\n",
              "      <td>652b408543e8c47e4eb481e0</td>\n",
              "      <td>Israel-Hamas War: Watch | Drone Video Captures...</td>\n",
              "      <td>The video provides an in-depth analysis of the...</td>\n",
              "    </tr>\n",
              "    <tr>\n",
              "      <th>73</th>\n",
              "      <td>652b407e43e8c47e4eb481df</td>\n",
              "      <td>Israel-Palestine war: Israel says it killed Ha...</td>\n",
              "      <td>The video starts with footage of a bomb explos...</td>\n",
              "    </tr>\n",
              "    <tr>\n",
              "      <th>74</th>\n",
              "      <td>652b407a43e8c47e4eb481de</td>\n",
              "      <td>Bodycam Videos Show Intense Shootouts Between ...</td>\n",
              "      <td>A tense situation unfolds as a driver captures...</td>\n",
              "    </tr>\n",
              "    <tr>\n",
              "      <th>75</th>\n",
              "      <td>652b407543e8c47e4eb481dc</td>\n",
              "      <td>Israel-Hamas war: CCTV catches two women caugh...</td>\n",
              "      <td>A CCTV footage captures various instances of a...</td>\n",
              "    </tr>\n",
              "    <tr>\n",
              "      <th>76</th>\n",
              "      <td>652b407643e8c47e4eb481dd</td>\n",
              "      <td>Moment Israeli border police eliminate Hamas t...</td>\n",
              "      <td>The video captures a chaotic car chase scene o...</td>\n",
              "    </tr>\n",
              "  </tbody>\n",
              "</table>\n",
              "<p>77 rows × 3 columns</p>\n",
              "</div>"
            ],
            "text/plain": [
              "                     videoID  \\\n",
              "0   652b44ad43e8c47e4eb48235   \n",
              "1   652b444c43e8c47e4eb48231   \n",
              "2   652b444943e8c47e4eb48230   \n",
              "3   652b443543e8c47e4eb4822f   \n",
              "4   652b442943e8c47e4eb4822e   \n",
              "..                       ...   \n",
              "72  652b408543e8c47e4eb481e0   \n",
              "73  652b407e43e8c47e4eb481df   \n",
              "74  652b407a43e8c47e4eb481de   \n",
              "75  652b407543e8c47e4eb481dc   \n",
              "76  652b407643e8c47e4eb481dd   \n",
              "\n",
              "                                                title  \\\n",
              "0   Israel-Hamas war: Israeli soldiers gear up to ...   \n",
              "1   Israel vs Hamas: Five Videos that Define the W...   \n",
              "2   Jewish schools CLOSE over children safety conc...   \n",
              "3   Israel Air Force Rains Fire On Hamas Naval HQ ...   \n",
              "4   Fake News Over Israel-Hamas War | Vantage with...   \n",
              "..                                                ...   \n",
              "72  Israel-Hamas War: Watch | Drone Video Captures...   \n",
              "73  Israel-Palestine war: Israel says it killed Ha...   \n",
              "74  Bodycam Videos Show Intense Shootouts Between ...   \n",
              "75  Israel-Hamas war: CCTV catches two women caugh...   \n",
              "76  Moment Israeli border police eliminate Hamas t...   \n",
              "\n",
              "                                              summary  \n",
              "0   An intense missile conflict unfolds in the ski...  \n",
              "1   In this video, there are five defining moments...  \n",
              "2   Some North London Jewish schools have closed d...  \n",
              "3   This video shows a city being struck by a disa...  \n",
              "4   The video explores the prevalence of digital m...  \n",
              "..                                                ...  \n",
              "72  The video provides an in-depth analysis of the...  \n",
              "73  The video starts with footage of a bomb explos...  \n",
              "74  A tense situation unfolds as a driver captures...  \n",
              "75  A CCTV footage captures various instances of a...  \n",
              "76  The video captures a chaotic car chase scene o...  \n",
              "\n",
              "[77 rows x 3 columns]"
            ]
          },
          "execution_count": 6,
          "metadata": {},
          "output_type": "execute_result"
        }
      ],
      "source": [
        "df = pd.read_csv(\"summaries.csv\", encoding=\"ISO-8859-1\", delimiter=\"\\t\")\n",
        "df"
      ]
    },
    {
      "cell_type": "code",
      "execution_count": 10,
      "metadata": {},
      "outputs": [
        {
          "name": "stdout",
          "output_type": "stream",
          "text": [
            "zsh:1: no matches found: arize[AutoEmbeddings]\n"
          ]
        }
      ],
      "source": [
        "!pip install arize[\"AutoEmbeddings\"]"
      ]
    },
    {
      "cell_type": "code",
      "execution_count": 7,
      "metadata": {},
      "outputs": [
        {
          "data": {
            "text/html": [
              "<div>\n",
              "<style scoped>\n",
              "    .dataframe tbody tr th:only-of-type {\n",
              "        vertical-align: middle;\n",
              "    }\n",
              "\n",
              "    .dataframe tbody tr th {\n",
              "        vertical-align: top;\n",
              "    }\n",
              "\n",
              "    .dataframe thead th {\n",
              "        text-align: right;\n",
              "    }\n",
              "</style>\n",
              "<table border=\"1\" class=\"dataframe\">\n",
              "  <thead>\n",
              "    <tr style=\"text-align: right;\">\n",
              "      <th></th>\n",
              "      <th>videoID</th>\n",
              "      <th>title</th>\n",
              "      <th>summary</th>\n",
              "    </tr>\n",
              "  </thead>\n",
              "  <tbody>\n",
              "    <tr>\n",
              "      <th>0</th>\n",
              "      <td>652b44ad43e8c47e4eb48235</td>\n",
              "      <td>Israel-Hamas war: Israeli soldiers gear up to ...</td>\n",
              "      <td>An intense missile conflict unfolds in the ski...</td>\n",
              "    </tr>\n",
              "    <tr>\n",
              "      <th>1</th>\n",
              "      <td>652b444c43e8c47e4eb48231</td>\n",
              "      <td>Israel vs Hamas: Five Videos that Define the W...</td>\n",
              "      <td>In this video, there are five defining moments...</td>\n",
              "    </tr>\n",
              "    <tr>\n",
              "      <th>2</th>\n",
              "      <td>652b444943e8c47e4eb48230</td>\n",
              "      <td>Jewish schools CLOSE over children safety conc...</td>\n",
              "      <td>Some North London Jewish schools have closed d...</td>\n",
              "    </tr>\n",
              "    <tr>\n",
              "      <th>3</th>\n",
              "      <td>652b443543e8c47e4eb4822f</td>\n",
              "      <td>Israel Air Force Rains Fire On Hamas Naval HQ ...</td>\n",
              "      <td>This video shows a city being struck by a disa...</td>\n",
              "    </tr>\n",
              "    <tr>\n",
              "      <th>4</th>\n",
              "      <td>652b442943e8c47e4eb4822e</td>\n",
              "      <td>Fake News Over Israel-Hamas War | Vantage with...</td>\n",
              "      <td>The video explores the prevalence of digital m...</td>\n",
              "    </tr>\n",
              "    <tr>\n",
              "      <th>...</th>\n",
              "      <td>...</td>\n",
              "      <td>...</td>\n",
              "      <td>...</td>\n",
              "    </tr>\n",
              "    <tr>\n",
              "      <th>72</th>\n",
              "      <td>652b408543e8c47e4eb481e0</td>\n",
              "      <td>Israel-Hamas War: Watch | Drone Video Captures...</td>\n",
              "      <td>The video provides an in-depth analysis of the...</td>\n",
              "    </tr>\n",
              "    <tr>\n",
              "      <th>73</th>\n",
              "      <td>652b407e43e8c47e4eb481df</td>\n",
              "      <td>Israel-Palestine war: Israel says it killed Ha...</td>\n",
              "      <td>The video starts with footage of a bomb explos...</td>\n",
              "    </tr>\n",
              "    <tr>\n",
              "      <th>74</th>\n",
              "      <td>652b407a43e8c47e4eb481de</td>\n",
              "      <td>Bodycam Videos Show Intense Shootouts Between ...</td>\n",
              "      <td>A tense situation unfolds as a driver captures...</td>\n",
              "    </tr>\n",
              "    <tr>\n",
              "      <th>75</th>\n",
              "      <td>652b407543e8c47e4eb481dc</td>\n",
              "      <td>Israel-Hamas war: CCTV catches two women caugh...</td>\n",
              "      <td>A CCTV footage captures various instances of a...</td>\n",
              "    </tr>\n",
              "    <tr>\n",
              "      <th>76</th>\n",
              "      <td>652b407643e8c47e4eb481dd</td>\n",
              "      <td>Moment Israeli border police eliminate Hamas t...</td>\n",
              "      <td>The video captures a chaotic car chase scene o...</td>\n",
              "    </tr>\n",
              "  </tbody>\n",
              "</table>\n",
              "<p>77 rows × 3 columns</p>\n",
              "</div>"
            ],
            "text/plain": [
              "                     videoID  \\\n",
              "0   652b44ad43e8c47e4eb48235   \n",
              "1   652b444c43e8c47e4eb48231   \n",
              "2   652b444943e8c47e4eb48230   \n",
              "3   652b443543e8c47e4eb4822f   \n",
              "4   652b442943e8c47e4eb4822e   \n",
              "..                       ...   \n",
              "72  652b408543e8c47e4eb481e0   \n",
              "73  652b407e43e8c47e4eb481df   \n",
              "74  652b407a43e8c47e4eb481de   \n",
              "75  652b407543e8c47e4eb481dc   \n",
              "76  652b407643e8c47e4eb481dd   \n",
              "\n",
              "                                                title  \\\n",
              "0   Israel-Hamas war: Israeli soldiers gear up to ...   \n",
              "1   Israel vs Hamas: Five Videos that Define the W...   \n",
              "2   Jewish schools CLOSE over children safety conc...   \n",
              "3   Israel Air Force Rains Fire On Hamas Naval HQ ...   \n",
              "4   Fake News Over Israel-Hamas War | Vantage with...   \n",
              "..                                                ...   \n",
              "72  Israel-Hamas War: Watch | Drone Video Captures...   \n",
              "73  Israel-Palestine war: Israel says it killed Ha...   \n",
              "74  Bodycam Videos Show Intense Shootouts Between ...   \n",
              "75  Israel-Hamas war: CCTV catches two women caugh...   \n",
              "76  Moment Israeli border police eliminate Hamas t...   \n",
              "\n",
              "                                              summary  \n",
              "0   An intense missile conflict unfolds in the ski...  \n",
              "1   In this video, there are five defining moments...  \n",
              "2   Some North London Jewish schools have closed d...  \n",
              "3   This video shows a city being struck by a disa...  \n",
              "4   The video explores the prevalence of digital m...  \n",
              "..                                                ...  \n",
              "72  The video provides an in-depth analysis of the...  \n",
              "73  The video starts with footage of a bomb explos...  \n",
              "74  A tense situation unfolds as a driver captures...  \n",
              "75  A CCTV footage captures various instances of a...  \n",
              "76  The video captures a chaotic car chase scene o...  \n",
              "\n",
              "[77 rows x 3 columns]"
            ]
          },
          "execution_count": 7,
          "metadata": {},
          "output_type": "execute_result"
        }
      ],
      "source": [
        "from arize.pandas.embeddings import EmbeddingGenerator, UseCases\n",
        "\n",
        "df = df.reset_index(drop=True)\n",
        "df"
      ]
    },
    {
      "cell_type": "code",
      "execution_count": 8,
      "metadata": {},
      "outputs": [
        {
          "name": "stdout",
          "output_type": "stream",
          "text": [
            "\u001b[33m  arize.utils.logging | WARNING | No available GPU has been detected. The use of GPU acceleration is strongly recommended. You can check for GPU availability by running `torch.cuda.is_available()`\u001b[0m\n",
            "\u001b[38;21m  arize.utils.logging | INFO | Downloading pre-trained model 'distilbert-base-uncased'\u001b[0m\n",
            "\u001b[38;21m  arize.utils.logging | INFO | Downloading tokenizer for 'distilbert-base-uncased'\u001b[0m\n",
            "\u001b[38;21m  arize.utils.logging | INFO | Generating embedding vectors\u001b[0m\n"
          ]
        },
        {
          "data": {
            "application/vnd.jupyter.widget-view+json": {
              "model_id": "fd5ce2e2fb4042d9a31733cdfcb450ab",
              "version_major": 2,
              "version_minor": 0
            },
            "text/plain": [
              "Map:   0%|          | 0/77 [00:00<?, ? examples/s]"
            ]
          },
          "metadata": {},
          "output_type": "display_data"
        }
      ],
      "source": [
        "generator = EmbeddingGenerator.from_use_case(\n",
        "    use_case=UseCases.NLP.SUMMARIZATION,\n",
        "    model_name=\"distilbert-base-uncased\",\n",
        "    # model_name=\"distilbert-base-uncased\",\n",
        "    tokenizer_max_length=512,\n",
        "    batch_size=100,\n",
        ")\n",
        "\n",
        "df[\"summary_vector\"] = generator.generate_embeddings(text_col=df[\"summary\"])"
      ]
    },
    {
      "cell_type": "code",
      "execution_count": 16,
      "metadata": {},
      "outputs": [
        {
          "name": "stdout",
          "output_type": "stream",
          "text": [
            "> \u001b[0;32m/Users/sasha/Documents/Personal/Hacks/IsraelPalestinianConflict/pyarrow/error.pxi\u001b[0m(100)\u001b[0;36mpyarrow.lib.check_status\u001b[0;34m()\u001b[0m\n",
            "\n"
          ]
        }
      ],
      "source": [
        "%debug"
      ]
    },
    {
      "cell_type": "code",
      "execution_count": 9,
      "metadata": {},
      "outputs": [
        {
          "data": {
            "text/html": [
              "<div>\n",
              "<style scoped>\n",
              "    .dataframe tbody tr th:only-of-type {\n",
              "        vertical-align: middle;\n",
              "    }\n",
              "\n",
              "    .dataframe tbody tr th {\n",
              "        vertical-align: top;\n",
              "    }\n",
              "\n",
              "    .dataframe thead th {\n",
              "        text-align: right;\n",
              "    }\n",
              "</style>\n",
              "<table border=\"1\" class=\"dataframe\">\n",
              "  <thead>\n",
              "    <tr style=\"text-align: right;\">\n",
              "      <th></th>\n",
              "      <th>videoID</th>\n",
              "      <th>title</th>\n",
              "      <th>summary</th>\n",
              "      <th>summary_vector</th>\n",
              "    </tr>\n",
              "  </thead>\n",
              "  <tbody>\n",
              "    <tr>\n",
              "      <th>0</th>\n",
              "      <td>652b44ad43e8c47e4eb48235</td>\n",
              "      <td>Israel-Hamas war: Israeli soldiers gear up to ...</td>\n",
              "      <td>An intense missile conflict unfolds in the ski...</td>\n",
              "      <td>[-0.08562961220741272, -0.0525701567530632, -0...</td>\n",
              "    </tr>\n",
              "    <tr>\n",
              "      <th>1</th>\n",
              "      <td>652b444c43e8c47e4eb48231</td>\n",
              "      <td>Israel vs Hamas: Five Videos that Define the W...</td>\n",
              "      <td>In this video, there are five defining moments...</td>\n",
              "      <td>[-0.05311104655265808, -0.37769395112991333, -...</td>\n",
              "    </tr>\n",
              "    <tr>\n",
              "      <th>2</th>\n",
              "      <td>652b444943e8c47e4eb48230</td>\n",
              "      <td>Jewish schools CLOSE over children safety conc...</td>\n",
              "      <td>Some North London Jewish schools have closed d...</td>\n",
              "      <td>[0.08371689915657043, -0.3879491090774536, -0....</td>\n",
              "    </tr>\n",
              "    <tr>\n",
              "      <th>3</th>\n",
              "      <td>652b443543e8c47e4eb4822f</td>\n",
              "      <td>Israel Air Force Rains Fire On Hamas Naval HQ ...</td>\n",
              "      <td>This video shows a city being struck by a disa...</td>\n",
              "      <td>[0.10667204856872559, -0.297080397605896, -0.2...</td>\n",
              "    </tr>\n",
              "    <tr>\n",
              "      <th>4</th>\n",
              "      <td>652b442943e8c47e4eb4822e</td>\n",
              "      <td>Fake News Over Israel-Hamas War | Vantage with...</td>\n",
              "      <td>The video explores the prevalence of digital m...</td>\n",
              "      <td>[0.07996666431427002, -0.2996918261051178, -0....</td>\n",
              "    </tr>\n",
              "    <tr>\n",
              "      <th>...</th>\n",
              "      <td>...</td>\n",
              "      <td>...</td>\n",
              "      <td>...</td>\n",
              "      <td>...</td>\n",
              "    </tr>\n",
              "    <tr>\n",
              "      <th>72</th>\n",
              "      <td>652b408543e8c47e4eb481e0</td>\n",
              "      <td>Israel-Hamas War: Watch | Drone Video Captures...</td>\n",
              "      <td>The video provides an in-depth analysis of the...</td>\n",
              "      <td>[-0.03756340965628624, -0.24474535882472992, -...</td>\n",
              "    </tr>\n",
              "    <tr>\n",
              "      <th>73</th>\n",
              "      <td>652b407e43e8c47e4eb481df</td>\n",
              "      <td>Israel-Palestine war: Israel says it killed Ha...</td>\n",
              "      <td>The video starts with footage of a bomb explos...</td>\n",
              "      <td>[0.07485247403383255, -0.2852363586425781, -0....</td>\n",
              "    </tr>\n",
              "    <tr>\n",
              "      <th>74</th>\n",
              "      <td>652b407a43e8c47e4eb481de</td>\n",
              "      <td>Bodycam Videos Show Intense Shootouts Between ...</td>\n",
              "      <td>A tense situation unfolds as a driver captures...</td>\n",
              "      <td>[-0.039329931139945984, -0.32355111837387085, ...</td>\n",
              "    </tr>\n",
              "    <tr>\n",
              "      <th>75</th>\n",
              "      <td>652b407543e8c47e4eb481dc</td>\n",
              "      <td>Israel-Hamas war: CCTV catches two women caugh...</td>\n",
              "      <td>A CCTV footage captures various instances of a...</td>\n",
              "      <td>[0.041810646653175354, -0.35534563660621643, -...</td>\n",
              "    </tr>\n",
              "    <tr>\n",
              "      <th>76</th>\n",
              "      <td>652b407643e8c47e4eb481dd</td>\n",
              "      <td>Moment Israeli border police eliminate Hamas t...</td>\n",
              "      <td>The video captures a chaotic car chase scene o...</td>\n",
              "      <td>[0.06101594865322113, -0.2860226631164551, -0....</td>\n",
              "    </tr>\n",
              "  </tbody>\n",
              "</table>\n",
              "<p>77 rows × 4 columns</p>\n",
              "</div>"
            ],
            "text/plain": [
              "                     videoID  \\\n",
              "0   652b44ad43e8c47e4eb48235   \n",
              "1   652b444c43e8c47e4eb48231   \n",
              "2   652b444943e8c47e4eb48230   \n",
              "3   652b443543e8c47e4eb4822f   \n",
              "4   652b442943e8c47e4eb4822e   \n",
              "..                       ...   \n",
              "72  652b408543e8c47e4eb481e0   \n",
              "73  652b407e43e8c47e4eb481df   \n",
              "74  652b407a43e8c47e4eb481de   \n",
              "75  652b407543e8c47e4eb481dc   \n",
              "76  652b407643e8c47e4eb481dd   \n",
              "\n",
              "                                                title  \\\n",
              "0   Israel-Hamas war: Israeli soldiers gear up to ...   \n",
              "1   Israel vs Hamas: Five Videos that Define the W...   \n",
              "2   Jewish schools CLOSE over children safety conc...   \n",
              "3   Israel Air Force Rains Fire On Hamas Naval HQ ...   \n",
              "4   Fake News Over Israel-Hamas War | Vantage with...   \n",
              "..                                                ...   \n",
              "72  Israel-Hamas War: Watch | Drone Video Captures...   \n",
              "73  Israel-Palestine war: Israel says it killed Ha...   \n",
              "74  Bodycam Videos Show Intense Shootouts Between ...   \n",
              "75  Israel-Hamas war: CCTV catches two women caugh...   \n",
              "76  Moment Israeli border police eliminate Hamas t...   \n",
              "\n",
              "                                              summary  \\\n",
              "0   An intense missile conflict unfolds in the ski...   \n",
              "1   In this video, there are five defining moments...   \n",
              "2   Some North London Jewish schools have closed d...   \n",
              "3   This video shows a city being struck by a disa...   \n",
              "4   The video explores the prevalence of digital m...   \n",
              "..                                                ...   \n",
              "72  The video provides an in-depth analysis of the...   \n",
              "73  The video starts with footage of a bomb explos...   \n",
              "74  A tense situation unfolds as a driver captures...   \n",
              "75  A CCTV footage captures various instances of a...   \n",
              "76  The video captures a chaotic car chase scene o...   \n",
              "\n",
              "                                       summary_vector  \n",
              "0   [-0.08562961220741272, -0.0525701567530632, -0...  \n",
              "1   [-0.05311104655265808, -0.37769395112991333, -...  \n",
              "2   [0.08371689915657043, -0.3879491090774536, -0....  \n",
              "3   [0.10667204856872559, -0.297080397605896, -0.2...  \n",
              "4   [0.07996666431427002, -0.2996918261051178, -0....  \n",
              "..                                                ...  \n",
              "72  [-0.03756340965628624, -0.24474535882472992, -...  \n",
              "73  [0.07485247403383255, -0.2852363586425781, -0....  \n",
              "74  [-0.039329931139945984, -0.32355111837387085, ...  \n",
              "75  [0.041810646653175354, -0.35534563660621643, -...  \n",
              "76  [0.06101594865322113, -0.2860226631164551, -0....  \n",
              "\n",
              "[77 rows x 4 columns]"
            ]
          },
          "execution_count": 9,
          "metadata": {},
          "output_type": "execute_result"
        }
      ],
      "source": [
        "df"
      ]
    },
    {
      "cell_type": "code",
      "execution_count": null,
      "metadata": {},
      "outputs": [],
      "source": []
    },
    {
      "cell_type": "code",
      "execution_count": 10,
      "metadata": {},
      "outputs": [],
      "source": [
        "schema = px.Schema(\n",
        "    embedding_feature_column_names={\n",
        "        \"taylors_embedding\": px.EmbeddingColumnNames(\n",
        "            vector_column_name=\"summary_vector\", raw_data_column_name=\"summary\"\n",
        "        )\n",
        "    },\n",
        "    feature_column_names=[\"videoID\", \"title\"],\n",
        ")"
      ]
    },
    {
      "cell_type": "code",
      "execution_count": 11,
      "metadata": {},
      "outputs": [
        {
          "name": "stdout",
          "output_type": "stream",
          "text": [
            "🌍 To view the Phoenix app in your browser, visit http://127.0.0.1:6060/\n",
            "📺 To view the Phoenix app in a notebook, run `px.active_session().view()`\n",
            "📖 For more information on how to use Phoenix, check out https://docs.arize.com/phoenix\n"
          ]
        },
        {
          "data": {
            "text/plain": [
              "<phoenix.session.session.ThreadSession at 0x17043ab10>"
            ]
          },
          "execution_count": 11,
          "metadata": {},
          "output_type": "execute_result"
        }
      ],
      "source": [
        "px.launch_app(px.Dataset(df, schema))"
      ]
    },
    {
      "cell_type": "code",
      "execution_count": 12,
      "metadata": {},
      "outputs": [
        {
          "name": "stdout",
          "output_type": "stream",
          "text": [
            "📺 Opening a view to the Phoenix app. The app is running at http://127.0.0.1:6060/\n"
          ]
        },
        {
          "data": {
            "text/html": [
              "\n",
              "        <iframe\n",
              "            width=\"100%\"\n",
              "            height=\"1000\"\n",
              "            src=\"http://127.0.0.1:6060/\"\n",
              "            frameborder=\"0\"\n",
              "            allowfullscreen\n",
              "            \n",
              "        ></iframe>\n",
              "        "
            ],
            "text/plain": [
              "<IPython.lib.display.IFrame at 0x1721e7410>"
            ]
          },
          "execution_count": 12,
          "metadata": {},
          "output_type": "execute_result"
        }
      ],
      "source": [
        "px.active_session().view()"
      ]
    },
    {
      "cell_type": "code",
      "execution_count": null,
      "metadata": {},
      "outputs": [],
      "source": []
    }
  ],
  "metadata": {
    "kernelspec": {
      "display_name": "smol",
      "language": "python",
      "name": "python3"
    },
    "language_info": {
      "codemirror_mode": {
        "name": "ipython",
        "version": 3
      },
      "file_extension": ".py",
      "mimetype": "text/x-python",
      "name": "python",
      "nbconvert_exporter": "python",
      "pygments_lexer": "ipython3",
      "version": "3.11.5"
    }
  },
  "nbformat": 4,
  "nbformat_minor": 0
}
